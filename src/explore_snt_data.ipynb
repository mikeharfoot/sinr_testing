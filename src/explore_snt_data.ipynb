{
 "cells": [
  {
   "cell_type": "code",
   "execution_count": 70,
   "metadata": {},
   "outputs": [],
   "source": [
    "import json\n",
    "import os\n",
    "\n",
    "import datasets\n",
    "import numpy as np\n",
    "import setup"
   ]
  },
  {
   "cell_type": "code",
   "execution_count": 3,
   "metadata": {},
   "outputs": [],
   "source": [
    "train_params = {}\n",
    "\n",
    "train_params[\n",
    "    \"experiment_name\"\n",
    "] = \"test_all_training\"  # This will be the name of the directory where results for this run are saved.\n",
    "\n",
    "\"\"\"\n",
    "species_set\n",
    "- Which set of species to train on.\n",
    "- Valid values: 'all', 'snt_birds'\n",
    "\"\"\"\n",
    "train_params[\"species_set\"] = \"all\"\n",
    "\n",
    "\"\"\"\n",
    "hard_cap_num_per_class\n",
    "- Maximum number of examples per class to use for training.\n",
    "- Valid values: positive integers or -1 (indicating no cap).\n",
    "\"\"\"\n",
    "train_params[\"hard_cap_num_per_class\"] = 1000\n",
    "\n",
    "\"\"\"\n",
    "num_aux_species\n",
    "- Number of random additional species to add.\n",
    "- Valid values: Nonnegative integers. Should be zero if params['species_set'] == 'all'.\n",
    "\"\"\"\n",
    "train_params[\"num_aux_species\"] = 0\n",
    "\n",
    "\"\"\"\n",
    "input_enc\n",
    "- Type of inputs to use for training.\n",
    "- Valid values: 'sin_cos', 'env', 'sin_cos_env'\n",
    "\"\"\"\n",
    "train_params[\"input_enc\"] = \"sin_cos\"\n",
    "\n",
    "\"\"\"\n",
    "loss\n",
    "- Which loss to use for training.\n",
    "- Valid values: 'an_full', 'an_slds', 'an_ssdl', 'an_full_me', 'an_slds_me', 'an_ssdl_me'\n",
    "\"\"\"\n",
    "train_params[\"loss\"] = \"an_full\"\n",
    "\n",
    "params = setup.get_default_params_train(overrides=train_params)"
   ]
  },
  {
   "cell_type": "code",
   "execution_count": 73,
   "metadata": {},
   "outputs": [],
   "source": [
    "with open(\"paths.json\", \"r\") as f:\n",
    "    paths = json.load(f)"
   ]
  },
  {
   "cell_type": "markdown",
   "metadata": {},
   "source": [
    "Read in the S&T taxa ids"
   ]
  },
  {
   "cell_type": "code",
   "execution_count": 4,
   "metadata": {},
   "outputs": [
    {
     "data": {
      "text/plain": [
       "[7,\n",
       " 162,\n",
       " 243,\n",
       " 316,\n",
       " 473,\n",
       " 519,\n",
       " 542,\n",
       " 804,\n",
       " 831,\n",
       " 890,\n",
       " 906,\n",
       " 981,\n",
       " 1280,\n",
       " 1392,\n",
       " 1399,\n",
       " 1406,\n",
       " 1409,\n",
       " 1907,\n",
       " 1960,\n",
       " 1965,\n",
       " 1986,\n",
       " 2090,\n",
       " 2191,\n",
       " 2548,\n",
       " 2552,\n",
       " 2599,\n",
       " 2669,\n",
       " 2938,\n",
       " 2969,\n",
       " 3017,\n",
       " 3108,\n",
       " 3117,\n",
       " 3280,\n",
       " 3454,\n",
       " 3460,\n",
       " 3544,\n",
       " 3545,\n",
       " 3759,\n",
       " 3849,\n",
       " 3857,\n",
       " 3862,\n",
       " 3864,\n",
       " 3869,\n",
       " 3873,\n",
       " 3875,\n",
       " 3892,\n",
       " 3893,\n",
       " 3896,\n",
       " 3901,\n",
       " 3906,\n",
       " 3931,\n",
       " 3936,\n",
       " 3938,\n",
       " 3962,\n",
       " 4246,\n",
       " 4345,\n",
       " 4364,\n",
       " 4368,\n",
       " 4381,\n",
       " 4385,\n",
       " 4399,\n",
       " 4449,\n",
       " 4450,\n",
       " 4457,\n",
       " 4496,\n",
       " 4512,\n",
       " 4626,\n",
       " 4627,\n",
       " 4647,\n",
       " 4665,\n",
       " 4672,\n",
       " 4793,\n",
       " 4798,\n",
       " 4817,\n",
       " 4835,\n",
       " 4836,\n",
       " 4838,\n",
       " 4840,\n",
       " 4857,\n",
       " 4885,\n",
       " 4892,\n",
       " 4893,\n",
       " 4937,\n",
       " 4938,\n",
       " 4940,\n",
       " 4956,\n",
       " 4981,\n",
       " 4999,\n",
       " 5009,\n",
       " 5020,\n",
       " 5034,\n",
       " 5063,\n",
       " 5097,\n",
       " 5108,\n",
       " 5112,\n",
       " 5180,\n",
       " 5196,\n",
       " 5206,\n",
       " 5212,\n",
       " 5227,\n",
       " 5268,\n",
       " 5277,\n",
       " 5305,\n",
       " 5349,\n",
       " 5355,\n",
       " 5416,\n",
       " 6317,\n",
       " 6359,\n",
       " 6363,\n",
       " 6369,\n",
       " 6432,\n",
       " 6433,\n",
       " 6553,\n",
       " 6557,\n",
       " 6571,\n",
       " 6638,\n",
       " 6643,\n",
       " 6893,\n",
       " 6899,\n",
       " 6915,\n",
       " 6917,\n",
       " 6921,\n",
       " 6930,\n",
       " 6933,\n",
       " 6937,\n",
       " 7019,\n",
       " 7024,\n",
       " 7087,\n",
       " 7089,\n",
       " 7107,\n",
       " 7170,\n",
       " 7266,\n",
       " 7294,\n",
       " 7347,\n",
       " 7363,\n",
       " 7428,\n",
       " 7429,\n",
       " 7458,\n",
       " 7462,\n",
       " 7464,\n",
       " 7470,\n",
       " 7486,\n",
       " 7493,\n",
       " 7497,\n",
       " 7498,\n",
       " 7513,\n",
       " 7562,\n",
       " 7576,\n",
       " 7601,\n",
       " 7603,\n",
       " 7643,\n",
       " 7829,\n",
       " 8001,\n",
       " 8003,\n",
       " 8010,\n",
       " 8021,\n",
       " 8229,\n",
       " 8234,\n",
       " 8319,\n",
       " 8335,\n",
       " 8349,\n",
       " 8474,\n",
       " 8520,\n",
       " 8618,\n",
       " 9017,\n",
       " 9081,\n",
       " 9083,\n",
       " 9092,\n",
       " 9096,\n",
       " 9100,\n",
       " 9135,\n",
       " 9139,\n",
       " 9144,\n",
       " 9148,\n",
       " 9152,\n",
       " 9156,\n",
       " 9176,\n",
       " 9182,\n",
       " 9184,\n",
       " 9185,\n",
       " 9192,\n",
       " 9195,\n",
       " 9196,\n",
       " 9236,\n",
       " 9312,\n",
       " 9318,\n",
       " 9319,\n",
       " 9325,\n",
       " 9328,\n",
       " 9339,\n",
       " 9346,\n",
       " 9357,\n",
       " 9419,\n",
       " 9420,\n",
       " 9424,\n",
       " 9458,\n",
       " 9528,\n",
       " 9535,\n",
       " 9601,\n",
       " 9602,\n",
       " 9607,\n",
       " 9617,\n",
       " 9721,\n",
       " 9744,\n",
       " 9771,\n",
       " 9800,\n",
       " 9807,\n",
       " 9915,\n",
       " 9919,\n",
       " 9921,\n",
       " 9924,\n",
       " 9943,\n",
       " 9958,\n",
       " 9981,\n",
       " 10070,\n",
       " 10094,\n",
       " 10118,\n",
       " 10139,\n",
       " 10168,\n",
       " 10173,\n",
       " 10224,\n",
       " 10227,\n",
       " 10234,\n",
       " 10243,\n",
       " 10247,\n",
       " 10271,\n",
       " 10274,\n",
       " 10286,\n",
       " 10322,\n",
       " 10325,\n",
       " 10373,\n",
       " 10411,\n",
       " 10423,\n",
       " 10431,\n",
       " 10442,\n",
       " 10470,\n",
       " 10479,\n",
       " 10487,\n",
       " 10585,\n",
       " 10676,\n",
       " 10729,\n",
       " 11855,\n",
       " 11858,\n",
       " 11867,\n",
       " 11901,\n",
       " 11931,\n",
       " 11935,\n",
       " 11941,\n",
       " 11970,\n",
       " 12024,\n",
       " 12727,\n",
       " 12822,\n",
       " 12878,\n",
       " 12883,\n",
       " 12890,\n",
       " 12899,\n",
       " 12901,\n",
       " 12936,\n",
       " 12937,\n",
       " 12942,\n",
       " 12951,\n",
       " 12992,\n",
       " 13000,\n",
       " 13071,\n",
       " 13094,\n",
       " 13141,\n",
       " 13270,\n",
       " 13630,\n",
       " 13631,\n",
       " 13632,\n",
       " 13633,\n",
       " 13634,\n",
       " 13688,\n",
       " 13695,\n",
       " 13710,\n",
       " 13711,\n",
       " 13729,\n",
       " 13732,\n",
       " 13851,\n",
       " 13858,\n",
       " 13893,\n",
       " 13988,\n",
       " 14801,\n",
       " 14816,\n",
       " 14823,\n",
       " 14825,\n",
       " 14849,\n",
       " 14850,\n",
       " 14886,\n",
       " 14890,\n",
       " 14891,\n",
       " 14892,\n",
       " 14895,\n",
       " 14898,\n",
       " 14906,\n",
       " 14912,\n",
       " 14995,\n",
       " 15045,\n",
       " 15256,\n",
       " 15282,\n",
       " 15990,\n",
       " 16010,\n",
       " 16016,\n",
       " 16028,\n",
       " 16071,\n",
       " 16079,\n",
       " 16100,\n",
       " 16106,\n",
       " 16110,\n",
       " 16447,\n",
       " 16598,\n",
       " 16602,\n",
       " 16603,\n",
       " 16604,\n",
       " 16611,\n",
       " 16620,\n",
       " 16621,\n",
       " 16622,\n",
       " 16624,\n",
       " 16625,\n",
       " 16638,\n",
       " 16721,\n",
       " 16770,\n",
       " 16779,\n",
       " 16782,\n",
       " 16783,\n",
       " 16784,\n",
       " 16787,\n",
       " 16791,\n",
       " 16798,\n",
       " 16956,\n",
       " 16968,\n",
       " 17008,\n",
       " 17009,\n",
       " 17013,\n",
       " 17356,\n",
       " 17362,\n",
       " 17363,\n",
       " 17364,\n",
       " 17365,\n",
       " 17375,\n",
       " 17382,\n",
       " 17394,\n",
       " 17399,\n",
       " 17402,\n",
       " 17408,\n",
       " 17638,\n",
       " 17694,\n",
       " 17855,\n",
       " 18160,\n",
       " 18161,\n",
       " 18167,\n",
       " 18204,\n",
       " 18205,\n",
       " 18209,\n",
       " 18236,\n",
       " 18256,\n",
       " 18448,\n",
       " 18460,\n",
       " 18463,\n",
       " 18464,\n",
       " 18467,\n",
       " 18976,\n",
       " 18978,\n",
       " 19349,\n",
       " 19410,\n",
       " 19577,\n",
       " 19587,\n",
       " 19609,\n",
       " 19627,\n",
       " 19743,\n",
       " 19765,\n",
       " 19798,\n",
       " 19812,\n",
       " 19822,\n",
       " 19893,\n",
       " 19959,\n",
       " 19975,\n",
       " 20044,\n",
       " 20307,\n",
       " 20315,\n",
       " 20356,\n",
       " 20445,\n",
       " 20781,\n",
       " 20969,\n",
       " 59220,\n",
       " 62550,\n",
       " 64705,\n",
       " 72458,\n",
       " 72486,\n",
       " 72912,\n",
       " 73041,\n",
       " 73044,\n",
       " 73148,\n",
       " 73149,\n",
       " 73155,\n",
       " 73172,\n",
       " 73174,\n",
       " 73175,\n",
       " 73553,\n",
       " 73557,\n",
       " 116840,\n",
       " 116923,\n",
       " 116940,\n",
       " 116941,\n",
       " 116999,\n",
       " 117002,\n",
       " 117007,\n",
       " 117008,\n",
       " 117016,\n",
       " 117027,\n",
       " 117055,\n",
       " 117059,\n",
       " 117095,\n",
       " 117097,\n",
       " 117100,\n",
       " 117153,\n",
       " 117223,\n",
       " 143853,\n",
       " 144207,\n",
       " 144220,\n",
       " 144242,\n",
       " 144243,\n",
       " 144455,\n",
       " 144479,\n",
       " 144491,\n",
       " 144496,\n",
       " 144502,\n",
       " 144514,\n",
       " 144515,\n",
       " 144530,\n",
       " 144537,\n",
       " 144539,\n",
       " 144541,\n",
       " 144792,\n",
       " 144809,\n",
       " 144814,\n",
       " 144815,\n",
       " 144816,\n",
       " 144820,\n",
       " 144821,\n",
       " 144830,\n",
       " 144849,\n",
       " 144882,\n",
       " 144883,\n",
       " 145088,\n",
       " 145223,\n",
       " 145224,\n",
       " 145225,\n",
       " 145229,\n",
       " 145230,\n",
       " 145231,\n",
       " 145232,\n",
       " 145233,\n",
       " 145235,\n",
       " 145236,\n",
       " 145237,\n",
       " 145238,\n",
       " 145239,\n",
       " 145240,\n",
       " 145242,\n",
       " 145244,\n",
       " 145245,\n",
       " 145246,\n",
       " 145249,\n",
       " 145253,\n",
       " 145254,\n",
       " 145255,\n",
       " 145256,\n",
       " 145257,\n",
       " 145258,\n",
       " 145275,\n",
       " 145276,\n",
       " 145289,\n",
       " 145300,\n",
       " 145304,\n",
       " 145308,\n",
       " 145309,\n",
       " 145310,\n",
       " 199831,\n",
       " 199833,\n",
       " 199837,\n",
       " 199839,\n",
       " 199840,\n",
       " 199841,\n",
       " 199913,\n",
       " 199914,\n",
       " 199916,\n",
       " 201192,\n",
       " 203153,\n",
       " 204455,\n",
       " 204456,\n",
       " 204510,\n",
       " 204512,\n",
       " 204527,\n",
       " 204533,\n",
       " 204545,\n",
       " 338752,\n",
       " 339605,\n",
       " 339684,\n",
       " 344926,\n",
       " 367475,\n",
       " 367477,\n",
       " 367715,\n",
       " 437602,\n",
       " 474210,\n",
       " 485176,\n",
       " 506117,\n",
       " 506118,\n",
       " 508048,\n",
       " 558426,\n",
       " 558427,\n",
       " 558438,\n",
       " 558439,\n",
       " 558441,\n",
       " 558446,\n",
       " 558512,\n",
       " 558637,\n",
       " 564898,\n",
       " 792986,\n",
       " 792987,\n",
       " 792988,\n",
       " 792990,\n",
       " 792993,\n",
       " 792994,\n",
       " 793284,\n",
       " 793285,\n",
       " 793286,\n",
       " 793292,\n",
       " 850859,\n",
       " 891704,\n",
       " 979752,\n",
       " 979753,\n",
       " 979755,\n",
       " 979756,\n",
       " 979757,\n",
       " 979817,\n",
       " 1286843,\n",
       " 1289467,\n",
       " 1289472]"
      ]
     },
     "execution_count": 4,
     "metadata": {},
     "output_type": "execute_result"
    }
   ],
   "source": [
    "data_dir = paths[\"train\"]\n",
    "obs_file = os.path.join(data_dir, params[\"obs_file\"])\n",
    "taxa_file = os.path.join(data_dir, params[\"taxa_file\"])\n",
    "taxa_file_snt = os.path.join(data_dir, \"taxa_subsets.json\")\n",
    "\n",
    "with open(taxa_file_snt, \"r\") as f:  #\n",
    "    taxa_subsets = json.load(f)\n",
    "taxa_of_interest = list(taxa_subsets[\"snt_birds\"])"
   ]
  },
  {
   "cell_type": "code",
   "execution_count": 11,
   "metadata": {},
   "outputs": [
    {
     "data": {
      "text/plain": [
       "540"
      ]
     },
     "execution_count": 11,
     "metadata": {},
     "output_type": "execute_result"
    }
   ],
   "source": [
    "len(taxa_of_interest)"
   ]
  },
  {
   "cell_type": "markdown",
   "metadata": {},
   "source": [
    "Read in the S&T evaluation data to see what that looks like"
   ]
  },
  {
   "cell_type": "code",
   "execution_count": 22,
   "metadata": {},
   "outputs": [],
   "source": [
    "D = np.load(os.path.join(paths[\"snt\"], \"snt_res_5.npy\"), allow_pickle=True)\n",
    "D = D.item()"
   ]
  },
  {
   "cell_type": "code",
   "execution_count": 24,
   "metadata": {},
   "outputs": [
    {
     "data": {
      "text/plain": [
       "dict_keys(['loc_indices_per_species', 'labels_per_species', 'taxa', 'obs_locs', 'obs_locs_idx'])"
      ]
     },
     "execution_count": 24,
     "metadata": {},
     "output_type": "execute_result"
    }
   ],
   "source": [
    "D.keys()"
   ]
  },
  {
   "cell_type": "code",
   "execution_count": 41,
   "metadata": {},
   "outputs": [
    {
     "name": "stdout",
     "output_type": "stream",
     "text": [
      "535\n",
      "(554882, 2)\n"
     ]
    }
   ],
   "source": [
    "print(len(D[\"loc_indices_per_species\"]))\n",
    "print(D[\"obs_locs\"].shape)"
   ]
  },
  {
   "cell_type": "code",
   "execution_count": 40,
   "metadata": {},
   "outputs": [
    {
     "data": {
      "text/plain": [
       "174746"
      ]
     },
     "execution_count": 40,
     "metadata": {},
     "output_type": "execute_result"
    }
   ],
   "source": [
    "len(D[\"loc_indices_per_species\"][0])"
   ]
  },
  {
   "cell_type": "markdown",
   "metadata": {},
   "source": [
    "## Rarify the data for a set of S&T species\n",
    "First the inat data for S&T species"
   ]
  },
  {
   "cell_type": "code",
   "execution_count": 5,
   "metadata": {},
   "outputs": [
    {
     "name": "stdout",
     "output_type": "stream",
     "text": [
      "\n",
      "Loading  data/train/geo_prior_train.csv\n",
      "30402074 observation(s) out of 35500262 from different taxa removed\n",
      "Number of unique classes 536\n"
     ]
    }
   ],
   "source": [
    "locs, labels, _, _, _, _ = datasets.load_inat_data(obs_file, taxa_of_interest)"
   ]
  },
  {
   "cell_type": "markdown",
   "metadata": {},
   "source": [
    "There are 536 S&T species with inat data here\n",
    "select 50 species to rarify at random "
   ]
  },
  {
   "cell_type": "code",
   "execution_count": 10,
   "metadata": {},
   "outputs": [
    {
     "data": {
      "text/plain": [
       "536"
      ]
     },
     "execution_count": 10,
     "metadata": {},
     "output_type": "execute_result"
    }
   ],
   "source": [
    "len(np.unique(labels))"
   ]
  },
  {
   "cell_type": "code",
   "execution_count": 16,
   "metadata": {},
   "outputs": [
    {
     "data": {
      "text/plain": [
       "array([  3938,   3460,   1965,  10094,   4940,    162,  72458, 117016,\n",
       "         3892,   9325,   7493,   9607,  12024,   3460,   9602, 144491,\n",
       "         4381,   4940,   9943,   4938,   6921,   4937,  14995,   3017,\n",
       "        12937,  10247,  13695,   8229,   5212,  14898,  12942,   5212,\n",
       "       979756, 145308,   7019,   3857,   9744,   7513, 199840,   9185,\n",
       "         9083,   9607,  13858,   5112,   9100,   9092,  72486, 144455,\n",
       "        13851,  13000])"
      ]
     },
     "execution_count": 16,
     "metadata": {},
     "output_type": "execute_result"
    }
   ],
   "source": [
    "rare_spps = np.random.choice(labels, size=50, replace=False)\n",
    "rare_spps"
   ]
  },
  {
   "cell_type": "code",
   "execution_count": 17,
   "metadata": {},
   "outputs": [
    {
     "data": {
      "text/plain": [
       "array([12250., 22351.,  3838., 48527., 40093.,  3398., 19072.,  7983.,\n",
       "       17281.,  6735., 14361., 34352., 11521., 22351., 19000., 17450.,\n",
       "        6864., 40093.,  4979., 11920., 29506., 16309., 18596., 24748.,\n",
       "       16362., 10554., 23613., 37265., 80913.,  9734., 31594., 80913.,\n",
       "        4238., 27707.,  7481.,  9320., 58504., 19359., 73409., 12190.,\n",
       "       74243., 34352., 91261., 30554., 57649., 10299., 13283., 80010.,\n",
       "       21693., 12366.])"
      ]
     },
     "execution_count": 17,
     "metadata": {},
     "output_type": "execute_result"
    }
   ],
   "source": [
    "# check how many data points each species has\n",
    "counts = np.zeros(len(rare_spps))\n",
    "for i, s in enumerate(rare_spps):\n",
    "    counts[i] = len(np.where(labels == s)[0])\n",
    "\n",
    "counts"
   ]
  },
  {
   "cell_type": "code",
   "execution_count": 18,
   "metadata": {},
   "outputs": [],
   "source": [
    "locs_2 = locs.copy()\n",
    "labels_2 = labels.copy()"
   ]
  },
  {
   "cell_type": "code",
   "execution_count": 51,
   "metadata": {},
   "outputs": [],
   "source": [
    "# Now cut out data from the inat dataset for these species\n",
    "labels_rare = labels.copy()\n",
    "locs_rare = locs.copy()\n",
    "# del_idx = []\n",
    "\n",
    "for s in rare_spps:\n",
    "    idx = np.where(labels_rare == s)[0]\n",
    "    del_idx = np.random.choice(idx, size=len(idx) - 50, replace=False)\n",
    "    locs_rare = np.delete(locs_rare, del_idx, axis=0)\n",
    "    labels_rare = np.delete(labels_rare, del_idx)\n",
    "\n",
    "# del_idx = np.concatenate( del_idx, axis=0 )\n",
    "# len(del_idx)"
   ]
  },
  {
   "cell_type": "code",
   "execution_count": 49,
   "metadata": {},
   "outputs": [
    {
     "data": {
      "text/plain": [
       "array([50., 50., 50., 50., 50., 50., 50., 50., 50., 50., 50., 50., 50.,\n",
       "       50., 50., 50., 50., 50., 50., 50., 50., 50., 50., 50., 50., 50.,\n",
       "       50., 50., 50., 50., 50., 50., 50., 50., 50., 50., 50., 50., 50.,\n",
       "       50., 50., 50., 50., 50., 50., 50., 50., 50., 50., 50.])"
      ]
     },
     "execution_count": 49,
     "metadata": {},
     "output_type": "execute_result"
    }
   ],
   "source": [
    "counts = np.zeros(len(rare_spps))\n",
    "for i, s in enumerate(rare_spps):\n",
    "    counts[i] = len(np.where(labels_rare == s)[0])\n",
    "\n",
    "counts"
   ]
  },
  {
   "cell_type": "code",
   "execution_count": 52,
   "metadata": {},
   "outputs": [
    {
     "name": "stdout",
     "output_type": "stream",
     "text": [
      "5098188 5098188\n",
      "3895753 3895753\n"
     ]
    }
   ],
   "source": [
    "# Check that the arrays are of equal size)\n",
    "print(len(locs), len(labels))\n",
    "print(len(locs_rare), len(labels_rare))"
   ]
  },
  {
   "cell_type": "markdown",
   "metadata": {},
   "source": [
    "### Write out the rarified species data"
   ]
  },
  {
   "cell_type": "code",
   "execution_count": 68,
   "metadata": {},
   "outputs": [
    {
     "data": {
      "text/plain": [
       "array([[-1.48946518e+02,  6.35737267e+01,  9.79757000e+05],\n",
       "       [-1.35445007e+02,  5.92358322e+01,  5.30500000e+03],\n",
       "       [-7.15302658e+01,  4.13766479e+01,  1.44530000e+05],\n",
       "       ...,\n",
       "       [-8.07600937e+01,  2.87953091e+01,  4.89200000e+03],\n",
       "       [-1.00342346e+02,  4.43662376e+01,  6.93000000e+03],\n",
       "       [-8.28303986e+01,  2.80640793e+01,  1.67980000e+04]])"
      ]
     },
     "execution_count": 68,
     "metadata": {},
     "output_type": "execute_result"
    }
   ],
   "source": [
    "# map(np.array, zip(*locs_rare))\n"
   ]
  },
  {
   "cell_type": "code",
   "execution_count": 69,
   "metadata": {},
   "outputs": [
    {
     "data": {
      "text/plain": [
       "(2500, 3)"
      ]
     },
     "execution_count": 69,
     "metadata": {},
     "output_type": "execute_result"
    }
   ],
   "source": [
    "rare_concat = np.hstack([locs_rare, np.reshape(labels_rare, (len(labels_rare), 1))])\n",
    "\n",
    "idx = []\n",
    "for s in rare_spps:\n",
    "    idx.append(np.where(labels_rare == s)[0])\n",
    "\n",
    "idx = np.concatenate(idx, axis=0)\n",
    "rare_concat_subset = rare_concat[idx, :]\n",
    "rare_concat_subset.shape"
   ]
  },
  {
   "cell_type": "code",
   "execution_count": 75,
   "metadata": {},
   "outputs": [],
   "source": [
    "np.savetxt(os.path.join(paths[\"rarefied\"], \"SNT_test.csv\"), rare_concat_subset, delimiter=\",\")"
   ]
  }
 ],
 "metadata": {
  "kernelspec": {
   "display_name": "sinr_icml",
   "language": "python",
   "name": "python3"
  },
  "language_info": {
   "codemirror_mode": {
    "name": "ipython",
    "version": 3
   },
   "file_extension": ".py",
   "mimetype": "text/x-python",
   "name": "python",
   "nbconvert_exporter": "python",
   "pygments_lexer": "ipython3",
   "version": "3.9.0"
  }
 },
 "nbformat": 4,
 "nbformat_minor": 2
}
